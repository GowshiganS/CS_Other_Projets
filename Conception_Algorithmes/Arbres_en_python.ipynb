{
 "cells": [
  {
   "cell_type": "markdown",
   "id": "9d0d7272-1d5b-4a57-a869-35207dd0fd5a",
   "metadata": {},
   "source": [
    "# TP 1\n",
    "## Partie 1 : Représentation d’un arbre en Python\n",
    "### Définition d’un nœud et d’un arbre"
   ]
  },
  {
   "cell_type": "code",
   "execution_count": 29,
   "id": "c4889608-5fb8-4ef2-b030-65271b9b3b7c",
   "metadata": {},
   "outputs": [],
   "source": [
    "from collections import deque\n",
    "\n",
    "# Une classe Node permettant de représenter un nœud avec une valeur et une liste d’enfants.\n",
    "\n",
    "class Node:\n",
    "\tdef __init__(self,valeur):\n",
    "\t\tself.data=valeur\n",
    "\t\tself.children = []\n",
    "\n",
    "#  Créer une classe Tree pour représenter un arbre n-aire.\n",
    "\n",
    "class Tree: \n",
    "    def __init__(self,root): \n",
    "        self.root = root\n",
    "\n",
    "    def addChild(self,father,child): \n",
    "        father.children.append(child)\n",
    "\n",
    "# un exemple d’arbre contenant 5 nœuds\n",
    "root = Node(7)\n",
    "child1= Node(1)\n",
    "child2= Node(2)\n",
    "child3= Node(3)\n",
    "child4= Node(4)\n",
    "child5= Node(5)\n",
    "Arbre = Tree(root)\n",
    "\n",
    "Arbre.addChild(root,child1)\n",
    "Arbre.addChild(root,child2)\n",
    "Arbre.addChild(root,child3)\n",
    "Arbre.addChild(root,child4)\n",
    "Arbre.addChild(root,child5)\n",
    "\n",
    "child6= Node(6)\n",
    "child7= Node(7)\n",
    "Arbre.addChild(child1,child6)\n",
    "Arbre.addChild(child3,child7)"
   ]
  },
  {
   "cell_type": "markdown",
   "id": "378ad92d-1ee9-4605-9529-3bc4b9fb0c1b",
   "metadata": {},
   "source": [
    "### Affichage de la structure de l’arbre"
   ]
  },
  {
   "cell_type": "code",
   "execution_count": 30,
   "id": "06a02ff5-aea1-4e39-a3c3-7a372d7ec331",
   "metadata": {},
   "outputs": [
    {
     "name": "stdout",
     "output_type": "stream",
     "text": [
      "7\n",
      "  1\n",
      "    6\n",
      "  2\n",
      "  3\n",
      "    7\n",
      "  4\n",
      "  5\n"
     ]
    }
   ],
   "source": [
    "# une méthode permettant d’afficher l’arbre sous forme textuelle\n",
    "def affichage(node, level=0):\n",
    "\n",
    "    print(' ' * level * 2 + str(node.data))\n",
    "    for child in node.children:\n",
    "        affichage(child, level + 1)\n",
    "\n",
    "affichage(Arbre.root)\n",
    "\n"
   ]
  },
  {
   "cell_type": "markdown",
   "id": "677168fc-4fe1-4508-b355-495d7de8cdae",
   "metadata": {},
   "source": [
    "La complexité de mémoire pour représenter un arbre n-aire est de O(n) car on fait n appels recursifs, donc la complexité de mémoire est proportionnelle à la taille de l'arbre"
   ]
  },
  {
   "cell_type": "markdown",
   "id": "ccff0cb5-c152-4199-8114-78a0fb9758df",
   "metadata": {},
   "source": [
    "## Partie 2 : Parcours d’arbre\n",
    "### Parcours en profondeur (DFS)"
   ]
  },
  {
   "cell_type": "code",
   "execution_count": 31,
   "id": "21b1aec4-8abc-4f16-920c-7b19a9843992",
   "metadata": {},
   "outputs": [
    {
     "name": "stdout",
     "output_type": "stream",
     "text": [
      "7\n",
      "1\n",
      "6\n",
      "2\n",
      "3\n",
      "7\n",
      "4\n",
      "5\n"
     ]
    }
   ],
   "source": [
    "# Fonction récursive pour parcourir un arbre en profondeur.\n",
    "def dfs(node):\n",
    "    print(node.data)  # Affichage du noeud\n",
    "    for child in node.children:\n",
    "        dfs(child) # appel recursif sur l'enfant pas visité\n",
    "        \n",
    "# Test du fonction sur l’exemple d’arbre défini dans l’exercice précédent.\n",
    "dfs(Arbre.root)"
   ]
  },
  {
   "cell_type": "markdown",
   "id": "85f1387a-7320-4103-a843-098a4179d2bb",
   "metadata": {},
   "source": [
    "La complexité en temps est de O(n) car on visite chaque noeud une fois."
   ]
  },
  {
   "cell_type": "markdown",
   "id": "222f36cf-241d-4bd4-8a95-aa6a7b0015a4",
   "metadata": {},
   "source": [
    "### Parcours en largeur (BFS)"
   ]
  },
  {
   "cell_type": "code",
   "execution_count": 32,
   "id": "a8952ea6-52e2-4498-9d2a-cbea9a3629e8",
   "metadata": {},
   "outputs": [
    {
     "name": "stdout",
     "output_type": "stream",
     "text": [
      "7\n",
      "1\n",
      "2\n",
      "3\n",
      "4\n",
      "5\n",
      "6\n",
      "7\n"
     ]
    }
   ],
   "source": [
    "# Fonction récursive pour parcourir un arbre en largeur.\n",
    "def dfs(node):\n",
    "    queue=deque([node])\n",
    "    while queue :\n",
    "        node = queue.popleft()\n",
    "        print(node.data)\n",
    "        for child in node.children:\n",
    "            queue.append(child)\n",
    "# Test du fonction sur l’exemple d’arbre défini dans l’exercice précédent.\n",
    "dfs(Arbre.root)"
   ]
  },
  {
   "cell_type": "markdown",
   "id": "a910dd0f-7ef8-4f77-a950-8079f205a2ee",
   "metadata": {},
   "source": [
    "La complexité en temps est de O(n) car on visite chaque noeud une fois comme pour le parcours en profondeur."
   ]
  },
  {
   "cell_type": "markdown",
   "id": "694ab9f1-2c1e-4f40-b248-d5ff025441af",
   "metadata": {},
   "source": [
    "## Traitement d'arbres\n",
    "### Somme des valeurs d'un arbre"
   ]
  },
  {
   "cell_type": "code",
   "execution_count": 34,
   "id": "d8fa8064-087e-4aff-a8ca-0cbcba3a581f",
   "metadata": {},
   "outputs": [
    {
     "data": {
      "text/plain": [
       "35"
      ]
     },
     "execution_count": 34,
     "metadata": {},
     "output_type": "execute_result"
    }
   ],
   "source": [
    "# Fonction qui calcule la somme des valeurs de tous les nœuds de l’arbre.\n",
    "def Somme(node):\n",
    "    somme = node.data\n",
    "    for nodes in node.children:\n",
    "        somme += Somme(nodes)\n",
    "    return somme\n",
    "    \n",
    "# Test de la fonction \n",
    "Somme(Arbre.root)"
   ]
  },
  {
   "cell_type": "markdown",
   "id": "70834c1a-d6da-490d-96df-3aa9cc3c3194",
   "metadata": {},
   "source": [
    "### Recherche d'une valeur spécifique"
   ]
  },
  {
   "cell_type": "code",
   "execution_count": 57,
   "id": "57596003-6d88-4467-95ef-184087a587ec",
   "metadata": {},
   "outputs": [
    {
     "name": "stdout",
     "output_type": "stream",
     "text": [
      "la valeur 10 est il présent dans l'arbre ? ->  False\n",
      "la valeur 4 est il présent dans l'arbre ? ->  True\n"
     ]
    }
   ],
   "source": [
    "# Fonction qui vérifie si une valeur donnée existe dans l’arbre.\n",
    "def recherche(node,valeur):\n",
    "    if node.data == valeur:\n",
    "        return True\n",
    "    for nodes in node.children:\n",
    "        if recherche(nodes,valeur):\n",
    "            return True\n",
    "    return False\n",
    "    \n",
    "# Test de la fonction\n",
    "print(\"la valeur 10 est il présent dans l'arbre ? -> \",recherche(Arbre.root,10))\n",
    "print(\"la valeur 4 est il présent dans l'arbre ? -> \",recherche(Arbre.root,4))"
   ]
  },
  {
   "cell_type": "markdown",
   "id": "b6b41006-6592-49a9-abdc-4f66c2693b83",
   "metadata": {},
   "source": [
    "### Problèmes supplémentaires"
   ]
  },
  {
   "cell_type": "code",
   "execution_count": 63,
   "id": "d111ad21-9211-4ac4-9b80-e766c7839f20",
   "metadata": {},
   "outputs": [
    {
     "name": "stdout",
     "output_type": "stream",
     "text": [
      "Valeur max de l'arbre est  7\n",
      "Profondeur max de l'arbre est  3\n"
     ]
    }
   ],
   "source": [
    "# Le plus grand noeud dans un arbre\n",
    "def valeur_max(node):\n",
    "    val_max = node.data\n",
    "    for nodes in node.children:\n",
    "        val_max = max(val_max,valeur_max(nodes))\n",
    "    return val_max\n",
    "# Test de la fonction\n",
    "print(\"Valeur max de l'arbre est \", valeur_max(Arbre.root))   \n",
    "\n",
    "# Le profondeur maximale de l'arbre\n",
    "def profondeur_max(node):\n",
    "    if not node.children:\n",
    "        return 1\n",
    "    return 1 + max(profondeur_max(child) for child in node.children)\n",
    "# Test de la fonction\n",
    "print(\"Profondeur max de l'arbre est \", profondeur_max(Arbre.root))   \n"
   ]
  },
  {
   "cell_type": "markdown",
   "id": "c7a17f7f-f767-4302-877d-2aac31da5b3c",
   "metadata": {},
   "source": [
    "## Analyse et Conclusion\n",
    "### Comparaison la complexité en temps des parcours DFS et BFS et Discussion de leur efficacité.\n",
    "Si on compare la complexité en temps des parcours de DFS et BFS on peut se rendre compte qu'ils ont la même complexité logarithmique.\n",
    "\n",
    "Maintenant si on compare la complexité en espace mémoire , DFS devrait être plus efficace car il ne stocke pas les valeurs avant de les afficher contrairement au BFS.\n",
    "\n",
    "Si on a un arbre très \"profond\" : peu d'enfants par noeuds mais beaucoup de enfants d'enfants, le DFS semble être plus adapté.\\\n",
    "Si on a un arbre très \"large\" : Beaucoup d'enfants par noeuds mais peu d'enfants d'enfants, le BFS semble être plus adapté.\n",
    "\n",
    "### Synthèse\n",
    "#### Resumé\n",
    "Lors de de ce TP on a appris a créer et manipuler un arbre n-aire avec python.\n",
    "Pour cela on a crée une classe noeud et arbre par la suite on a crée un arbre exemple.\\\n",
    "Afin de visualiser notre arbre de manière textuelle on a implémenté une fonction affichage et on a discuté de la complexité.\n",
    "\n",
    "Par la suite nous avons implémenté deux types de parcours( en profondeur et en largeur) afin de parcourir notre arbre, on a testé et expliqué leurs complexité respectives.\n",
    "\n",
    "Nous avons également implémenté des fonctions pour trouver la somme des valeurs d'un arbre, rechercher une valeur specfique, trouver le plus grand noeud dans un arbre , calculer la profondeur maximale de l'arbre.\n",
    "On a testé tous ces fonctions sur notre arbre.\n",
    "#### Pistes d'approfondissement de l'études des arbres\n",
    "Afin de poursuivre nos recherches sur les arbres on pourrait voir :\n",
    "- Arbres Binaires (un noeud peut avoir 2 noeuds ou moins)\n",
    "- Arbres Ternaires( un noeud peut avoir 3 noeuds ou moins\n",
    "- Les AVL (arbres binaires equilibrés, la différence de hauteur entre les sous arbres droites et gauches ne peuvent pas être plus que un.)\n",
    "\n",
    "Ces types de d'arbres ont leurs propres avantages et inconvéiants grace à leurs structres unique.\n",
    "ainsi leurs complexité peuvent varier et leurs cas d'utilisations également.\n"
   ]
  },
  {
   "cell_type": "code",
   "execution_count": null,
   "id": "a7c0b7bc-0d3d-4bb6-b5b6-5cbe0a33d30a",
   "metadata": {},
   "outputs": [],
   "source": []
  }
 ],
 "metadata": {
  "kernelspec": {
   "display_name": "Python 3 (ipykernel)",
   "language": "python",
   "name": "python3"
  },
  "language_info": {
   "codemirror_mode": {
    "name": "ipython",
    "version": 3
   },
   "file_extension": ".py",
   "mimetype": "text/x-python",
   "name": "python",
   "nbconvert_exporter": "python",
   "pygments_lexer": "ipython3",
   "version": "3.10.12"
  }
 },
 "nbformat": 4,
 "nbformat_minor": 5
}
